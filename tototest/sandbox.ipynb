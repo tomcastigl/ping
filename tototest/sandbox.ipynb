{
 "cells": [
  {
   "cell_type": "code",
   "execution_count": 115,
   "metadata": {},
   "outputs": [],
   "source": [
    "import os\n",
    "import pandas as pd\n",
    "import matplotlib.pyplot as plt\n",
    "import datetime\n",
    "from freqtrade.data.history import load_pair_history\n",
    "from pathlib import Path\n",
    "import mplfinance as mpf\n",
    "import talib.abstract as ta\n",
    "import numpy as np\n",
    "from sklearn.neural_network import MLPClassifier\n",
    "from sklearn.linear_model import LogisticRegression\n",
    "from sklearn.model_selection import train_test_split\n",
    "from sklearn.metrics import accuracy_score\n"
   ]
  },
  {
   "cell_type": "code",
   "execution_count": 4,
   "metadata": {},
   "outputs": [
    {
     "data": {
      "text/html": [
       "<div>\n",
       "<style scoped>\n",
       "    .dataframe tbody tr th:only-of-type {\n",
       "        vertical-align: middle;\n",
       "    }\n",
       "\n",
       "    .dataframe tbody tr th {\n",
       "        vertical-align: top;\n",
       "    }\n",
       "\n",
       "    .dataframe thead th {\n",
       "        text-align: right;\n",
       "    }\n",
       "</style>\n",
       "<table border=\"1\" class=\"dataframe\">\n",
       "  <thead>\n",
       "    <tr style=\"text-align: right;\">\n",
       "      <th></th>\n",
       "      <th>open</th>\n",
       "      <th>high</th>\n",
       "      <th>low</th>\n",
       "      <th>close</th>\n",
       "      <th>volume</th>\n",
       "    </tr>\n",
       "    <tr>\n",
       "      <th>date</th>\n",
       "      <th></th>\n",
       "      <th></th>\n",
       "      <th></th>\n",
       "      <th></th>\n",
       "      <th></th>\n",
       "    </tr>\n",
       "  </thead>\n",
       "  <tbody>\n",
       "    <tr>\n",
       "      <th>2020-12-01 00:00:00+00:00</th>\n",
       "      <td>19695.87</td>\n",
       "      <td>19720.00</td>\n",
       "      <td>19479.80</td>\n",
       "      <td>19565.47</td>\n",
       "      <td>4570.361518</td>\n",
       "    </tr>\n",
       "    <tr>\n",
       "      <th>2020-12-01 01:00:00+00:00</th>\n",
       "      <td>19565.47</td>\n",
       "      <td>19639.99</td>\n",
       "      <td>19433.15</td>\n",
       "      <td>19605.75</td>\n",
       "      <td>2702.459235</td>\n",
       "    </tr>\n",
       "    <tr>\n",
       "      <th>2020-12-01 02:00:00+00:00</th>\n",
       "      <td>19605.75</td>\n",
       "      <td>19704.93</td>\n",
       "      <td>19548.57</td>\n",
       "      <td>19680.95</td>\n",
       "      <td>2408.229978</td>\n",
       "    </tr>\n",
       "    <tr>\n",
       "      <th>2020-12-01 03:00:00+00:00</th>\n",
       "      <td>19680.96</td>\n",
       "      <td>19682.77</td>\n",
       "      <td>19340.00</td>\n",
       "      <td>19419.74</td>\n",
       "      <td>2889.848604</td>\n",
       "    </tr>\n",
       "    <tr>\n",
       "      <th>2020-12-01 04:00:00+00:00</th>\n",
       "      <td>19419.73</td>\n",
       "      <td>19527.02</td>\n",
       "      <td>19344.92</td>\n",
       "      <td>19354.31</td>\n",
       "      <td>3400.857941</td>\n",
       "    </tr>\n",
       "  </tbody>\n",
       "</table>\n",
       "</div>"
      ],
      "text/plain": [
       "                               open      high       low     close       volume\n",
       "date                                                                          \n",
       "2020-12-01 00:00:00+00:00  19695.87  19720.00  19479.80  19565.47  4570.361518\n",
       "2020-12-01 01:00:00+00:00  19565.47  19639.99  19433.15  19605.75  2702.459235\n",
       "2020-12-01 02:00:00+00:00  19605.75  19704.93  19548.57  19680.95  2408.229978\n",
       "2020-12-01 03:00:00+00:00  19680.96  19682.77  19340.00  19419.74  2889.848604\n",
       "2020-12-01 04:00:00+00:00  19419.73  19527.02  19344.92  19354.31  3400.857941"
      ]
     },
     "execution_count": 4,
     "metadata": {},
     "output_type": "execute_result"
    }
   ],
   "source": [
    "candles = load_pair_history(datadir=Path('data', 'binance'),\n",
    "                            timeframe='1h',\n",
    "                            pair='BTC/USDT',\n",
    "                            data_format = \"json\",\n",
    "                            )\n",
    "candles.index=candles.date\n",
    "candles.drop('date',inplace=True,axis=1)\n",
    "candles.head()"
   ]
  },
  {
   "cell_type": "code",
   "execution_count": 22,
   "metadata": {},
   "outputs": [
    {
     "data": {
      "text/html": [
       "<div>\n",
       "<style scoped>\n",
       "    .dataframe tbody tr th:only-of-type {\n",
       "        vertical-align: middle;\n",
       "    }\n",
       "\n",
       "    .dataframe tbody tr th {\n",
       "        vertical-align: top;\n",
       "    }\n",
       "\n",
       "    .dataframe thead th {\n",
       "        text-align: right;\n",
       "    }\n",
       "</style>\n",
       "<table border=\"1\" class=\"dataframe\">\n",
       "  <thead>\n",
       "    <tr style=\"text-align: right;\">\n",
       "      <th></th>\n",
       "      <th>open</th>\n",
       "      <th>high</th>\n",
       "      <th>low</th>\n",
       "      <th>close</th>\n",
       "      <th>volume</th>\n",
       "    </tr>\n",
       "    <tr>\n",
       "      <th>date</th>\n",
       "      <th></th>\n",
       "      <th></th>\n",
       "      <th></th>\n",
       "      <th></th>\n",
       "      <th></th>\n",
       "    </tr>\n",
       "  </thead>\n",
       "  <tbody>\n",
       "    <tr>\n",
       "      <th>2020-12-01 00:00:00+00:00</th>\n",
       "      <td>False</td>\n",
       "      <td>False</td>\n",
       "      <td>False</td>\n",
       "      <td>False</td>\n",
       "      <td>False</td>\n",
       "    </tr>\n",
       "    <tr>\n",
       "      <th>2020-12-01 01:00:00+00:00</th>\n",
       "      <td>False</td>\n",
       "      <td>False</td>\n",
       "      <td>False</td>\n",
       "      <td>True</td>\n",
       "      <td>False</td>\n",
       "    </tr>\n",
       "    <tr>\n",
       "      <th>2020-12-01 02:00:00+00:00</th>\n",
       "      <td>True</td>\n",
       "      <td>True</td>\n",
       "      <td>True</td>\n",
       "      <td>True</td>\n",
       "      <td>False</td>\n",
       "    </tr>\n",
       "    <tr>\n",
       "      <th>2020-12-01 03:00:00+00:00</th>\n",
       "      <td>True</td>\n",
       "      <td>False</td>\n",
       "      <td>False</td>\n",
       "      <td>False</td>\n",
       "      <td>True</td>\n",
       "    </tr>\n",
       "    <tr>\n",
       "      <th>2020-12-01 04:00:00+00:00</th>\n",
       "      <td>False</td>\n",
       "      <td>False</td>\n",
       "      <td>True</td>\n",
       "      <td>False</td>\n",
       "      <td>True</td>\n",
       "    </tr>\n",
       "    <tr>\n",
       "      <th>2020-12-01 05:00:00+00:00</th>\n",
       "      <td>False</td>\n",
       "      <td>False</td>\n",
       "      <td>False</td>\n",
       "      <td>True</td>\n",
       "      <td>False</td>\n",
       "    </tr>\n",
       "  </tbody>\n",
       "</table>\n",
       "</div>"
      ],
      "text/plain": [
       "                            open   high    low  close  volume\n",
       "date                                                         \n",
       "2020-12-01 00:00:00+00:00  False  False  False  False   False\n",
       "2020-12-01 01:00:00+00:00  False  False  False   True   False\n",
       "2020-12-01 02:00:00+00:00   True   True   True   True   False\n",
       "2020-12-01 03:00:00+00:00   True  False  False  False    True\n",
       "2020-12-01 04:00:00+00:00  False  False   True  False    True\n",
       "2020-12-01 05:00:00+00:00  False  False  False   True   False"
      ]
     },
     "execution_count": 22,
     "metadata": {},
     "output_type": "execute_result"
    }
   ],
   "source": [
    "candles.loc[:candles.index[5],:] > candles.loc[:candles.index[5],:].shift(1)"
   ]
  },
  {
   "cell_type": "code",
   "execution_count": 17,
   "metadata": {},
   "outputs": [
    {
     "data": {
      "image/png": "[encoded data removed]",
      "text/plain": [
       "<Figure size 800x575 with 2 Axes>"
      ]
     },
     "metadata": {},
     "output_type": "display_data"
    }
   ],
   "source": [
    "mpf.plot(candles.loc[candles.index[:20]],type='candle')"
   ]
  },
  {
   "cell_type": "code",
   "execution_count": 6,
   "metadata": {},
   "outputs": [],
   "source": [
    "aave_df=pd.read_json('tototest/data/binance/AAVE_USDT-1h.json')"
   ]
  },
  {
   "cell_type": "code",
   "execution_count": 20,
   "metadata": {},
   "outputs": [],
   "source": [
    "aave_df[0]=aave_df[0].apply(lambda d: datetime.datetime.fromtimestamp(int(d)/1000))"
   ]
  },
  {
   "cell_type": "code",
   "execution_count": 6,
   "metadata": {},
   "outputs": [
    {
     "data": {
      "text/plain": [
       "[<matplotlib.lines.Line2D at 0x7f55f3165160>]"
      ]
     },
     "execution_count": 6,
     "metadata": {},
     "output_type": "execute_result"
    },
    {
     "data": {
      "image/png": "[encoded data removed]",
      "text/plain": [
       "<Figure size 432x288 with 1 Axes>"
      ]
     },
     "metadata": {
      "needs_background": "light"
     },
     "output_type": "display_data"
    }
   ],
   "source": [
    "plt.plot(candles.index[-168:],candles.loc[candles.index[-168:],'open'])"
   ]
  },
  {
   "cell_type": "code",
   "execution_count": 10,
   "metadata": {},
   "outputs": [
    {
     "ename": "NameError",
     "evalue": "name 'i' is not defined",
     "output_type": "error",
     "traceback": [
      "\u001b[0;31m---------------------------------------------------------------------------\u001b[0m",
      "\u001b[0;31mNameError\u001b[0m                                 Traceback (most recent call last)",
      "Input \u001b[0;32mIn [10]\u001b[0m, in \u001b[0;36m<module>\u001b[0;34m\u001b[0m\n\u001b[0;32m----> 1\u001b[0m \u001b[43mi\u001b[49m \u001b[38;5;129;01min\u001b[39;00m \u001b[38;5;28mlist\u001b[39m(np\u001b[38;5;241m.\u001b[39mlinspace(\u001b[38;5;241m0\u001b[39m,\u001b[38;5;28mlen\u001b[39m(price),\u001b[38;5;241m24\u001b[39m))\n",
      "\u001b[0;31mNameError\u001b[0m: name 'i' is not defined"
     ]
    }
   ],
   "source": [
    "i in list(np.linspace(0,len(price),24))"
   ]
  },
  {
   "cell_type": "code",
   "execution_count": 10,
   "metadata": {},
   "outputs": [
    {
     "name": "stdout",
     "output_type": "stream",
     "text": [
      "['HARD/USDT', 'TKO/USDT', 'ETH/USDT', 'NMR/USDT', 'MATIC/USDT']\n"
     ]
    }
   ],
   "source": [
    "pairs=[str(fname.split(sep='_')[0]+'/'+fname.split(sep='_')[1])[:-8] for fname in os.listdir('data/binance')]\n",
    "print(pairs[:5])"
   ]
  },
  {
   "cell_type": "code",
   "execution_count": 122,
   "metadata": {},
   "outputs": [
    {
     "name": "stdout",
     "output_type": "stream",
     "text": [
      "['HARD/USDT', 'TKO/USDT', 'ETH/USDT', 'NMR/USDT', 'MATIC/USDT', 'ZIL/USDT', 'XMR/USDT', 'EGLD/USDT', 'STMX/USDT', 'ANKR/USDT']\n",
      "(46052, 336) (46052,)\n",
      "y counts {0: 24391, 1: 21661} fraction of +: 0.4703595935029966\n"
     ]
    }
   ],
   "source": [
    "#do for each pair\n",
    "data=pd.DataFrame()\n",
    "print(pairs[:10])\n",
    "for pair in pairs:\n",
    "    candles = load_pair_history(datadir=Path('data', 'binance'),\n",
    "                                timeframe='1h',\n",
    "                                pair=pair,\n",
    "                                data_format = \"json\",\n",
    "                                )\n",
    "    candles.index=candles.date\n",
    "    candles.drop('date',inplace=True,axis=1)\n",
    "    price=list(candles['close'])\n",
    "    chunks=[(price[i:i+336],price[i+360]) for i in list(np.arange(0,len(price)-360,24))]\n",
    "    temp=pd.DataFrame(chunks)\n",
    "    data=pd.concat([data,temp])\n",
    "    #y_temp=[x[1] for x in chunks]\n",
    "    #plt.plot(range(len(X_temp.loc[0])),X_temp.loc[43])\n",
    "    #plt.scatter(len(X_temp)+24,chunks[43][1])\n",
    "data.columns=['X','y']\n",
    "X=np.array(data['X'].tolist())\n",
    "y_reg=data['y'].tolist()\n",
    "y=np.array([int(y_reg[i] > X[i,-1]+0.005*X[i,-1]) for i in range(len(y_reg))])\n",
    "print(X.shape,y.shape)\n",
    "np.savetxt('X.csv',X,delimiter=',')\n",
    "np.savetxt('y.csv',X,delimiter=',')\n",
    "\n",
    "unique, counts = np.unique(y, return_counts=True)\n",
    "print(f'y counts {dict(zip(unique, counts))} fraction of +: {counts[1]/np.sum(counts)}')\n",
    "X_train,X_test,y_train,y_test=train_test_split(X,y,test_size=0.2)"
   ]
  },
  {
   "cell_type": "code",
   "execution_count": 114,
   "metadata": {},
   "outputs": [
    {
     "name": "stdout",
     "output_type": "stream",
     "text": [
      "acc= 0.5114\n"
     ]
    }
   ],
   "source": [
    "clf=MLPClassifier(random_state=42)\n",
    "clf.fit(X_train,y_train)\n",
    "pred=clf.predict(X_test)\n",
    "print(f'acc= {round(accuracy_score(y_test,pred),4)}')"
   ]
  }
 ],
 "metadata": {
  "interpreter": {
   "hash": "356411511ce46f829ae81e85e1333f35c151734d052f33e38eac690961034295"
  },
  "kernelspec": {
   "display_name": "Python 3.8.10 64-bit ('.env': venv)",
   "language": "python",
   "name": "python3"
  },
  "language_info": {
   "codemirror_mode": {
    "name": "ipython",
    "version": 3
   },
   "file_extension": ".py",
   "mimetype": "text/x-python",
   "name": "python",
   "nbconvert_exporter": "python",
   "pygments_lexer": "ipython3",
   "version": "3.8.10"
  },
  "orig_nbformat": 4
 },
 "nbformat": 4,
 "nbformat_minor": 2
}
